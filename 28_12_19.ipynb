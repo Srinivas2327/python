{
  "nbformat": 4,
  "nbformat_minor": 0,
  "metadata": {
    "colab": {
      "name": "28-12-19.ipynb",
      "provenance": [],
      "collapsed_sections": []
    },
    "kernelspec": {
      "name": "python3",
      "display_name": "Python 3"
    }
  },
  "cells": [
    {
      "cell_type": "code",
      "metadata": {
        "id": "Xy62yleyvgLB",
        "colab_type": "code",
        "colab": {
          "base_uri": "https://localhost:8080/",
          "height": 34
        },
        "outputId": "04ac1608-71b1-4c9b-fa3b-36711d8d745a"
      },
      "source": [
        "\n",
        "def split(n):\n",
        "    li=list(n)\n",
        "    return (li)[::2]\n",
        "split('pynative')\n",
        "\n",
        "\n"
      ],
      "execution_count": 6,
      "outputs": [
        {
          "output_type": "execute_result",
          "data": {
            "text/plain": [
              "['p', 'n', 't', 'v']"
            ]
          },
          "metadata": {
            "tags": []
          },
          "execution_count": 6
        }
      ]
    },
    {
      "cell_type": "code",
      "metadata": {
        "id": "Lhe-LJTlxHHB",
        "colab_type": "code",
        "colab": {
          "base_uri": "https://localhost:8080/",
          "height": 51
        },
        "outputId": "6ebd8d6e-3f43-4de3-f8f3-42043ed89c12"
      },
      "source": [
        "def firstandlast(n):\n",
        "    if n[0]==n[-1]:\n",
        "          return True\n",
        "    else:\n",
        "        return False\n",
        "n1=[1,2,4,1]\n",
        "n2=[1,2,4,5,7]\n",
        "print(firstandlast(n1))\n",
        "print(firstandlast(n2))"
      ],
      "execution_count": 8,
      "outputs": [
        {
          "output_type": "stream",
          "text": [
            "True\n",
            "False\n"
          ],
          "name": "stdout"
        }
      ]
    },
    {
      "cell_type": "code",
      "metadata": {
        "id": "DIxkHxucy1HM",
        "colab_type": "code",
        "colab": {
          "base_uri": "https://localhost:8080/",
          "height": 187
        },
        "outputId": "5f6ff6da-2d05-4e93-d2a5-ac5400469c1d"
      },
      "source": [
        "def number(n):\n",
        "    for i in range(1,n):\n",
        "       print(str(i) * i,'\\n')\n",
        "(number(6))"
      ],
      "execution_count": 40,
      "outputs": [
        {
          "output_type": "stream",
          "text": [
            "1 \n",
            "\n",
            "22 \n",
            "\n",
            "333 \n",
            "\n",
            "4444 \n",
            "\n",
            "55555 \n",
            "\n"
          ],
          "name": "stdout"
        }
      ]
    },
    {
      "cell_type": "code",
      "metadata": {
        "id": "Cs1oSs2x1eMU",
        "colab_type": "code",
        "colab": {
          "base_uri": "https://localhost:8080/",
          "height": 68
        },
        "outputId": "bf690669-ef25-4f81-d0a9-1e15422c7326"
      },
      "source": [
        "a=input(\"enter name:\")\n",
        "b=int(input('enter age:'))\n",
        "m=100-b\n",
        "p=m+2019\n",
        "print(a,'turns old in',p)"
      ],
      "execution_count": 41,
      "outputs": [
        {
          "output_type": "stream",
          "text": [
            "enter name:20\n",
            "enter age:20\n",
            "20 turns old in 2099\n"
          ],
          "name": "stdout"
        }
      ]
    },
    {
      "cell_type": "code",
      "metadata": {
        "id": "H7FlQPQm7AAG",
        "colab_type": "code",
        "colab": {}
      },
      "source": [
        "\n"
      ],
      "execution_count": 0,
      "outputs": []
    }
  ]
}