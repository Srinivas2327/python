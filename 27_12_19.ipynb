{
  "nbformat": 4,
  "nbformat_minor": 0,
  "metadata": {
    "colab": {
      "name": "27-12-19.ipynb",
      "provenance": [],
      "collapsed_sections": []
    },
    "kernelspec": {
      "name": "python3",
      "display_name": "Python 3"
    }
  },
  "cells": [
    {
      "cell_type": "markdown",
      "metadata": {
        "id": "XF3KY05klUyB",
        "colab_type": "text"
      },
      "source": [
        ""
      ]
    },
    {
      "cell_type": "markdown",
      "metadata": {
        "id": "62PHhqi8lWTI",
        "colab_type": "text"
      },
      "source": [
        "# List examples"
      ]
    },
    {
      "cell_type": "code",
      "metadata": {
        "id": "XcU3Gv71laxo",
        "colab_type": "code",
        "colab": {
          "base_uri": "https://localhost:8080/",
          "height": 136
        },
        "outputId": "9eee457f-7b86-4dc7-8b54-5a1e4f62a3b0"
      },
      "source": [
        "li=[\"gitam\",123,124,1323,1323,1323,3451]\n",
        "print(li)\n",
        "print(li[2:])\n",
        "print(li[2:4])\n",
        "print(li[-4:-1])\n",
        "print(li[:5])\n",
        "print(li[::-1])\n",
        "print(li[-1::-1])"
      ],
      "execution_count": 44,
      "outputs": [
        {
          "output_type": "stream",
          "text": [
            "['gitam', 123, 124, 1323, 1323, 1323, 3451]\n",
            "[124, 1323, 1323, 1323, 3451]\n",
            "[124, 1323]\n",
            "[1323, 1323, 1323]\n",
            "['gitam', 123, 124, 1323, 1323]\n",
            "[3451, 1323, 1323, 1323, 124, 123, 'gitam']\n",
            "[3451, 1323, 1323, 1323, 124, 123, 'gitam']\n"
          ],
          "name": "stdout"
        }
      ]
    },
    {
      "cell_type": "code",
      "metadata": {
        "id": "AkmW5BIulo7c",
        "colab_type": "code",
        "colab": {}
      },
      "source": [
        "# Update\n",
        "li[0]=\"srinivas\""
      ],
      "execution_count": 0,
      "outputs": []
    },
    {
      "cell_type": "code",
      "metadata": {
        "id": "5BeB2KyOl6sw",
        "colab_type": "code",
        "colab": {
          "base_uri": "https://localhost:8080/",
          "height": 34
        },
        "outputId": "988171f3-bdb4-4a47-f71e-6b021f2f5351"
      },
      "source": [
        "print(li)"
      ],
      "execution_count": 3,
      "outputs": [
        {
          "output_type": "stream",
          "text": [
            "['srinivas', 123, 124, 1323, 1323, 1323, 3451]\n"
          ],
          "name": "stdout"
        }
      ]
    },
    {
      "cell_type": "code",
      "metadata": {
        "id": "sPGnP3Vyl9PQ",
        "colab_type": "code",
        "colab": {}
      },
      "source": [
        "# Delete\n",
        "del li[2]"
      ],
      "execution_count": 0,
      "outputs": []
    },
    {
      "cell_type": "code",
      "metadata": {
        "id": "zkJK15BLmctQ",
        "colab_type": "code",
        "colab": {
          "base_uri": "https://localhost:8080/",
          "height": 34
        },
        "outputId": "8d4bf16f-a24b-4670-fc12-d6fcf3035d0e"
      },
      "source": [
        "print(li)"
      ],
      "execution_count": 6,
      "outputs": [
        {
          "output_type": "stream",
          "text": [
            "['srinivas', 123, 1323, 1323, 1323, 3451]\n"
          ],
          "name": "stdout"
        }
      ]
    },
    {
      "cell_type": "code",
      "metadata": {
        "id": "X9dwCaH1meqI",
        "colab_type": "code",
        "colab": {
          "base_uri": "https://localhost:8080/",
          "height": 34
        },
        "outputId": "258d599c-0885-475a-f511-2e2198524d7d"
      },
      "source": [
        "li[0]=\"gitam\"\n",
        "print(li)"
      ],
      "execution_count": 7,
      "outputs": [
        {
          "output_type": "stream",
          "text": [
            "['gitam', 123, 1323, 1323, 1323, 3451]\n"
          ],
          "name": "stdout"
        }
      ]
    },
    {
      "cell_type": "code",
      "metadata": {
        "id": "mFd1LCYpnVK4",
        "colab_type": "code",
        "colab": {
          "base_uri": "https://localhost:8080/",
          "height": 34
        },
        "outputId": "adb6120f-cbdc-4d85-ab12-e9815a3f64e7"
      },
      "source": [
        "li=[1,2,3,4,525]\n",
        "len(li)"
      ],
      "execution_count": 8,
      "outputs": [
        {
          "output_type": "execute_result",
          "data": {
            "text/plain": [
              "5"
            ]
          },
          "metadata": {
            "tags": []
          },
          "execution_count": 8
        }
      ]
    },
    {
      "cell_type": "code",
      "metadata": {
        "id": "fOGwVzbXn9yZ",
        "colab_type": "code",
        "colab": {
          "base_uri": "https://localhost:8080/",
          "height": 34
        },
        "outputId": "99777105-6204-4c15-d367-8671c1c112c0"
      },
      "source": [
        "li*3"
      ],
      "execution_count": 9,
      "outputs": [
        {
          "output_type": "execute_result",
          "data": {
            "text/plain": [
              "[1, 2, 3, 4, 525, 1, 2, 3, 4, 525, 1, 2, 3, 4, 525]"
            ]
          },
          "metadata": {
            "tags": []
          },
          "execution_count": 9
        }
      ]
    },
    {
      "cell_type": "code",
      "metadata": {
        "id": "D_A5_xhZoRAf",
        "colab_type": "code",
        "colab": {
          "base_uri": "https://localhost:8080/",
          "height": 34
        },
        "outputId": "154bce35-44d2-45f4-c871-dd4022b06f50"
      },
      "source": [
        "2 in li"
      ],
      "execution_count": 10,
      "outputs": [
        {
          "output_type": "execute_result",
          "data": {
            "text/plain": [
              "True"
            ]
          },
          "metadata": {
            "tags": []
          },
          "execution_count": 10
        }
      ]
    },
    {
      "cell_type": "code",
      "metadata": {
        "id": "SsAg-7quoavf",
        "colab_type": "code",
        "colab": {
          "base_uri": "https://localhost:8080/",
          "height": 34
        },
        "outputId": "d3696862-1d42-4ad3-e0ec-730fafa3192e"
      },
      "source": [
        "5 in li"
      ],
      "execution_count": 11,
      "outputs": [
        {
          "output_type": "execute_result",
          "data": {
            "text/plain": [
              "False"
            ]
          },
          "metadata": {
            "tags": []
          },
          "execution_count": 11
        }
      ]
    },
    {
      "cell_type": "code",
      "metadata": {
        "id": "HuWS38_yoc4X",
        "colab_type": "code",
        "colab": {
          "base_uri": "https://localhost:8080/",
          "height": 34
        },
        "outputId": "689c2902-a228-4dcc-8bd2-8df5f97c5c45"
      },
      "source": [
        "525 in li"
      ],
      "execution_count": 12,
      "outputs": [
        {
          "output_type": "execute_result",
          "data": {
            "text/plain": [
              "True"
            ]
          },
          "metadata": {
            "tags": []
          },
          "execution_count": 12
        }
      ]
    },
    {
      "cell_type": "markdown",
      "metadata": {
        "id": "PMLEw0Ozo00p",
        "colab_type": "text"
      },
      "source": [
        "# Basic list functions"
      ]
    },
    {
      "cell_type": "code",
      "metadata": {
        "id": "QpNPutkfo5Vy",
        "colab_type": "code",
        "colab": {
          "base_uri": "https://localhost:8080/",
          "height": 34
        },
        "outputId": "5549eef2-9afd-4223-d2b8-ab1a8c685432"
      },
      "source": [
        "li=[1,2,3,4,5,6]\n",
        "max(li)"
      ],
      "execution_count": 13,
      "outputs": [
        {
          "output_type": "execute_result",
          "data": {
            "text/plain": [
              "6"
            ]
          },
          "metadata": {
            "tags": []
          },
          "execution_count": 13
        }
      ]
    },
    {
      "cell_type": "code",
      "metadata": {
        "id": "xkYlouHmpApA",
        "colab_type": "code",
        "colab": {
          "base_uri": "https://localhost:8080/",
          "height": 51
        },
        "outputId": "cab66232-327e-4617-c5ab-6826b3b74628"
      },
      "source": [
        "print(min(li))\n",
        "sum(li)"
      ],
      "execution_count": 16,
      "outputs": [
        {
          "output_type": "stream",
          "text": [
            "1\n"
          ],
          "name": "stdout"
        },
        {
          "output_type": "execute_result",
          "data": {
            "text/plain": [
              "21"
            ]
          },
          "metadata": {
            "tags": []
          },
          "execution_count": 16
        }
      ]
    },
    {
      "cell_type": "code",
      "metadata": {
        "id": "ZLa-PB1xpatp",
        "colab_type": "code",
        "colab": {
          "base_uri": "https://localhost:8080/",
          "height": 34
        },
        "outputId": "17adfbac-afca-4d55-801d-ad42883a8363"
      },
      "source": [
        "print(sum(li)/len(li))   # Average"
      ],
      "execution_count": 19,
      "outputs": [
        {
          "output_type": "stream",
          "text": [
            "3.5\n"
          ],
          "name": "stdout"
        }
      ]
    },
    {
      "cell_type": "code",
      "metadata": {
        "id": "sOAsI7MVpyqw",
        "colab_type": "code",
        "colab": {}
      },
      "source": [
        "li.append(22)   # To add number at end of the list"
      ],
      "execution_count": 0,
      "outputs": []
    },
    {
      "cell_type": "code",
      "metadata": {
        "id": "4clRWYu_qLxg",
        "colab_type": "code",
        "colab": {
          "base_uri": "https://localhost:8080/",
          "height": 34
        },
        "outputId": "e9dcf3e8-acfd-4be1-9cbc-76aa66139e69"
      },
      "source": [
        "li"
      ],
      "execution_count": 21,
      "outputs": [
        {
          "output_type": "execute_result",
          "data": {
            "text/plain": [
              "[1, 2, 3, 4, 5, 6, 22]"
            ]
          },
          "metadata": {
            "tags": []
          },
          "execution_count": 21
        }
      ]
    },
    {
      "cell_type": "code",
      "metadata": {
        "id": "P9QDOgZRqNjw",
        "colab_type": "code",
        "colab": {}
      },
      "source": [
        "li.insert(1,5)  # To add at the middle of the list(index,object)"
      ],
      "execution_count": 0,
      "outputs": []
    },
    {
      "cell_type": "code",
      "metadata": {
        "id": "9c0boOG0qi7p",
        "colab_type": "code",
        "colab": {
          "base_uri": "https://localhost:8080/",
          "height": 34
        },
        "outputId": "da6fed29-33c8-47ed-9102-2f0725e1d956"
      },
      "source": [
        "li"
      ],
      "execution_count": 23,
      "outputs": [
        {
          "output_type": "execute_result",
          "data": {
            "text/plain": [
              "[1, 5, 2, 3, 4, 5, 6, 22]"
            ]
          },
          "metadata": {
            "tags": []
          },
          "execution_count": 23
        }
      ]
    },
    {
      "cell_type": "code",
      "metadata": {
        "id": "dAx38f4JqjuA",
        "colab_type": "code",
        "colab": {
          "base_uri": "https://localhost:8080/",
          "height": 51
        },
        "outputId": "867c7f19-0fe6-4a0f-c0de-9cf3fcca92cd"
      },
      "source": [
        "li=[1,2,3,4,5,6,5,22,8,7,]\n",
        "print(li.sort())   # Sort list in ascending order\n",
        "li"
      ],
      "execution_count": 27,
      "outputs": [
        {
          "output_type": "stream",
          "text": [
            "None\n"
          ],
          "name": "stdout"
        },
        {
          "output_type": "execute_result",
          "data": {
            "text/plain": [
              "[1, 2, 3, 4, 5, 5, 6, 7, 8, 22]"
            ]
          },
          "metadata": {
            "tags": []
          },
          "execution_count": 27
        }
      ]
    },
    {
      "cell_type": "code",
      "metadata": {
        "id": "glTpzRDarVTw",
        "colab_type": "code",
        "colab": {
          "base_uri": "https://localhost:8080/",
          "height": 34
        },
        "outputId": "9c707b98-b524-4160-8c2a-f57d88520707"
      },
      "source": [
        "li.pop()  # Last index will be deleted\n",
        "li"
      ],
      "execution_count": 28,
      "outputs": [
        {
          "output_type": "execute_result",
          "data": {
            "text/plain": [
              "[1, 2, 3, 4, 5, 5, 6, 7, 8]"
            ]
          },
          "metadata": {
            "tags": []
          },
          "execution_count": 28
        }
      ]
    },
    {
      "cell_type": "code",
      "metadata": {
        "id": "qt_LC91sr6qA",
        "colab_type": "code",
        "colab": {
          "base_uri": "https://localhost:8080/",
          "height": 34
        },
        "outputId": "f4473c24-226b-4a9c-8170-0c3cd544e3d1"
      },
      "source": [
        "li.pop(2)  # Delete specific index value\n",
        "li"
      ],
      "execution_count": 30,
      "outputs": [
        {
          "output_type": "execute_result",
          "data": {
            "text/plain": [
              "[1, 2, 5, 5, 6, 7, 8]"
            ]
          },
          "metadata": {
            "tags": []
          },
          "execution_count": 30
        }
      ]
    },
    {
      "cell_type": "code",
      "metadata": {
        "id": "4CUEwUPXsHNY",
        "colab_type": "code",
        "colab": {
          "base_uri": "https://localhost:8080/",
          "height": 51
        },
        "outputId": "161618a7-1da7-49e0-b5a6-1e360fa6aace"
      },
      "source": [
        "# Function to return large number from list\n",
        "def largenumber(li):\n",
        "    li.sort()\n",
        "    return li[-1]\n",
        "def genericlarge(li,n):\n",
        "    li.sort()\n",
        "    return li[-n]\n",
        "li=[19,1,3,87,32,21,36]\n",
        "print(largenumber(li))\n",
        "print(genericlarge(li,3))"
      ],
      "execution_count": 31,
      "outputs": [
        {
          "output_type": "stream",
          "text": [
            "87\n",
            "32\n"
          ],
          "name": "stdout"
        }
      ]
    },
    {
      "cell_type": "code",
      "metadata": {
        "id": "3M2brUbjuB3O",
        "colab_type": "code",
        "colab": {
          "base_uri": "https://localhost:8080/",
          "height": 51
        },
        "outputId": "797e38a9-1232-4895-ec52-d61f966732d8"
      },
      "source": [
        "# Function to return small number from list\n",
        "def smallnumber(li):\n",
        "    li.sort()\n",
        "    return li[0]\n",
        "def genericsmall(li,a):\n",
        "    li.sort()\n",
        "    return li[a-1]\n",
        "li=[12,4,89,32,25,11]\n",
        "print(smallnumber(li))\n",
        "print(genericsmall(li,3))"
      ],
      "execution_count": 38,
      "outputs": [
        {
          "output_type": "stream",
          "text": [
            "4\n",
            "12\n"
          ],
          "name": "stdout"
        }
      ]
    },
    {
      "cell_type": "markdown",
      "metadata": {
        "id": "pPt4tFgLwkxj",
        "colab_type": "text"
      },
      "source": [
        "# Tuple\n",
        "- Values seperated by comma enclosed by parenthesis()\n",
        "- Values can't be changed i.e immutable\n",
        "\n",
        "#Difference between list and tuple\n",
        "- List can be modified\n",
        "- List used to access means modify,add,delete,update\n",
        "- Tuples can't be modified\n",
        "- used to access data only"
      ]
    },
    {
      "cell_type": "code",
      "metadata": {
        "id": "Sutlc6SzyP26",
        "colab_type": "code",
        "colab": {
          "base_uri": "https://localhost:8080/",
          "height": 51
        },
        "outputId": "ebc7f3f1-28b2-44ce-9ba5-02287caf604e"
      },
      "source": [
        "t1=(1,2,3,4,5)\n",
        "print(t1)\n",
        "print(type(t1))"
      ],
      "execution_count": 39,
      "outputs": [
        {
          "output_type": "stream",
          "text": [
            "(1, 2, 3, 4, 5)\n",
            "<class 'tuple'>\n"
          ],
          "name": "stdout"
        }
      ]
    },
    {
      "cell_type": "markdown",
      "metadata": {
        "id": "crILfOmB0_rk",
        "colab_type": "text"
      },
      "source": [
        "# Dictionaries:\n",
        "- Work on concept of set unique data\n",
        "- Dictionary contains keys and values\n",
        "- Each key is seperated from its values with colon  ':'\n",
        "- Each key and values seperated by comma ','\n",
        "- Dictionary enclosed by {}"
      ]
    },
    {
      "cell_type": "code",
      "metadata": {
        "id": "kU8uFdT42COe",
        "colab_type": "code",
        "colab": {
          "base_uri": "https://localhost:8080/",
          "height": 34
        },
        "outputId": "b0f7a78b-20ca-435f-b6a8-0381ba1aa8fa"
      },
      "source": [
        "d1={\"name\":\"gitam\",\"email\":\"gitam@gmail.com\",\"address\":\"hyderabad\"}\n",
        "print(d1)"
      ],
      "execution_count": 47,
      "outputs": [
        {
          "output_type": "stream",
          "text": [
            "{'name': 'gitam', 'email': 'gitam@gmail.com', 'address': 'hyderabad'}\n"
          ],
          "name": "stdout"
        }
      ]
    },
    {
      "cell_type": "code",
      "metadata": {
        "id": "3CcDhb8k2aT5",
        "colab_type": "code",
        "colab": {
          "base_uri": "https://localhost:8080/",
          "height": 34
        },
        "outputId": "613a3811-8643-42ae-cd28-4423eb70e1f0"
      },
      "source": [
        "d1={\"name\":\"gitam\",\"email\":\"gitam@gmail.com\",\"address\":\"hyderabad\"}\n",
        "d1[\"name\"]"
      ],
      "execution_count": 55,
      "outputs": [
        {
          "output_type": "execute_result",
          "data": {
            "text/plain": [
              "'gitam'"
            ]
          },
          "metadata": {
            "tags": []
          },
          "execution_count": 55
        }
      ]
    },
    {
      "cell_type": "code",
      "metadata": {
        "id": "pic4H3yt24GR",
        "colab_type": "code",
        "colab": {
          "base_uri": "https://localhost:8080/",
          "height": 34
        },
        "outputId": "e0394adb-df08-4c06-efb7-c8b6722ded00"
      },
      "source": [
        "d1['email']='python@gmail.com'\n",
        "d1"
      ],
      "execution_count": 58,
      "outputs": [
        {
          "output_type": "execute_result",
          "data": {
            "text/plain": [
              "{'address': 'hyderabad', 'email': 'python@gmail.com', 'name': 'gitam'}"
            ]
          },
          "metadata": {
            "tags": []
          },
          "execution_count": 58
        }
      ]
    },
    {
      "cell_type": "code",
      "metadata": {
        "id": "7kAjO3nc4NCz",
        "colab_type": "code",
        "colab": {
          "base_uri": "https://localhost:8080/",
          "height": 34
        },
        "outputId": "92f26e03-3077-4178-f47d-520d9abe4d28"
      },
      "source": [
        "d1['course']='python'\n",
        "print(d1)"
      ],
      "execution_count": 61,
      "outputs": [
        {
          "output_type": "stream",
          "text": [
            "{'name': 'gitam', 'email': 'python@gmail.com', 'address': 'hyderabad', 'course': 'python'}\n"
          ],
          "name": "stdout"
        }
      ]
    },
    {
      "cell_type": "code",
      "metadata": {
        "id": "9KkbQQ2K4ZBq",
        "colab_type": "code",
        "colab": {
          "base_uri": "https://localhost:8080/",
          "height": 34
        },
        "outputId": "a14e8a9e-02d5-4e58-fa9b-f74d32dddf78"
      },
      "source": [
        "# Delete\n",
        "d1={\"name\":\"gitam\",\"email\":\"gitam@gmail.com\",\"address\":\"hyderabad\"}\n",
        "del d1[\"email\"]\n",
        "print(d1)"
      ],
      "execution_count": 66,
      "outputs": [
        {
          "output_type": "stream",
          "text": [
            "{'name': 'gitam', 'address': 'hyderabad'}\n"
          ],
          "name": "stdout"
        }
      ]
    },
    {
      "cell_type": "code",
      "metadata": {
        "id": "Jgxw6eO44o5v",
        "colab_type": "code",
        "colab": {
          "base_uri": "https://localhost:8080/",
          "height": 34
        },
        "outputId": "9f931f4f-9152-4d98-c88c-92ba59a3c5b4"
      },
      "source": [
        "d1.keys()"
      ],
      "execution_count": 67,
      "outputs": [
        {
          "output_type": "execute_result",
          "data": {
            "text/plain": [
              "dict_keys(['name', 'address'])"
            ]
          },
          "metadata": {
            "tags": []
          },
          "execution_count": 67
        }
      ]
    },
    {
      "cell_type": "code",
      "metadata": {
        "id": "ceMXGy-Q7AcO",
        "colab_type": "code",
        "colab": {
          "base_uri": "https://localhost:8080/",
          "height": 34
        },
        "outputId": "d6e682ec-8593-48e7-b4ff-6eef3de2ad23"
      },
      "source": [
        "d1.values()"
      ],
      "execution_count": 68,
      "outputs": [
        {
          "output_type": "execute_result",
          "data": {
            "text/plain": [
              "dict_values(['gitam', 'hyderabad'])"
            ]
          },
          "metadata": {
            "tags": []
          },
          "execution_count": 68
        }
      ]
    },
    {
      "cell_type": "code",
      "metadata": {
        "id": "_cmmwbxZ7Gth",
        "colab_type": "code",
        "colab": {
          "base_uri": "https://localhost:8080/",
          "height": 34
        },
        "outputId": "b704ce59-3049-492d-db10-e09008cdac7b"
      },
      "source": [
        "d1.items()"
      ],
      "execution_count": 69,
      "outputs": [
        {
          "output_type": "execute_result",
          "data": {
            "text/plain": [
              "dict_items([('name', 'gitam'), ('address', 'hyderabad')])"
            ]
          },
          "metadata": {
            "tags": []
          },
          "execution_count": 69
        }
      ]
    },
    {
      "cell_type": "markdown",
      "metadata": {
        "id": "FdKX4-y47oMV",
        "colab_type": "text"
      },
      "source": [
        "# Strings:\n"
      ]
    },
    {
      "cell_type": "code",
      "metadata": {
        "id": "YmTta-HT7ss0",
        "colab_type": "code",
        "colab": {
          "base_uri": "https://localhost:8080/",
          "height": 51
        },
        "outputId": "9a96f020-bcc2-4ce1-b9c1-f1b43bf9d2d7"
      },
      "source": [
        "s1='python'\n",
        "print(s1)\n",
        "type(s1)"
      ],
      "execution_count": 72,
      "outputs": [
        {
          "output_type": "stream",
          "text": [
            "python\n"
          ],
          "name": "stdout"
        },
        {
          "output_type": "execute_result",
          "data": {
            "text/plain": [
              "str"
            ]
          },
          "metadata": {
            "tags": []
          },
          "execution_count": 72
        }
      ]
    },
    {
      "cell_type": "code",
      "metadata": {
        "id": "7hrGqSNJ7wMo",
        "colab_type": "code",
        "colab": {
          "base_uri": "https://localhost:8080/",
          "height": 102
        },
        "outputId": "df325431-803f-449c-bace-1ca762e2c82e"
      },
      "source": [
        "s1='python'\n",
        "print(s1[0])\n",
        "print(s1[5])\n",
        "print(s1[2:])\n",
        "print(s1[-1::-1])\n",
        "print(s1[::-1])"
      ],
      "execution_count": 79,
      "outputs": [
        {
          "output_type": "stream",
          "text": [
            "p\n",
            "n\n",
            "thon\n",
            "nohtyp\n",
            "nohtyp\n"
          ],
          "name": "stdout"
        }
      ]
    },
    {
      "cell_type": "code",
      "metadata": {
        "id": "Oz51lt-w8IQR",
        "colab_type": "code",
        "colab": {
          "base_uri": "https://localhost:8080/",
          "height": 102
        },
        "outputId": "c864ac7d-def1-4ebc-b544-93582515014b"
      },
      "source": [
        "print(s1[len(s1)//2])  # To access middle of the character\n",
        "print(s1[1:6:2])\n",
        "print(s1[0:6:2])  # Interval \n",
        "print(s1[0:6:1])\n",
        "print(s1[0:5:2])"
      ],
      "execution_count": 88,
      "outputs": [
        {
          "output_type": "stream",
          "text": [
            "h\n",
            "yhn\n",
            "pto\n",
            "python\n",
            "pto\n"
          ],
          "name": "stdout"
        }
      ]
    },
    {
      "cell_type": "code",
      "metadata": {
        "id": "zcmfpLHO9Do4",
        "colab_type": "code",
        "colab": {
          "base_uri": "https://localhost:8080/",
          "height": 34
        },
        "outputId": "c5390c48-8bde-4100-9008-0f5a322a1539"
      },
      "source": [
        "# Using function reverse of the string\n",
        "def reverseofstring(s1):\n",
        "    return s1[::-1]\n",
        "reverseofstring('program')\n"
      ],
      "execution_count": 91,
      "outputs": [
        {
          "output_type": "execute_result",
          "data": {
            "text/plain": [
              "'margorp'"
            ]
          },
          "metadata": {
            "tags": []
          },
          "execution_count": 91
        }
      ]
    },
    {
      "cell_type": "code",
      "metadata": {
        "id": "51aHZV7j-Wfc",
        "colab_type": "code",
        "colab": {
          "base_uri": "https://localhost:8080/",
          "height": 51
        },
        "outputId": "1e9fdd15-82d5-41ef-a99d-4d8c2c551a46"
      },
      "source": [
        "# Palindrome\n",
        "def palin(s1):\n",
        "    rev=0\n",
        "    temp=s1\n",
        "    rev=s1[::-1]\n",
        "    if temp==rev:\n",
        "      return \"palindrome\"\n",
        "    else:\n",
        "      return \"not a palindrome\"\n",
        "print(palin('nithin'))\n",
        "print(palin('121'))"
      ],
      "execution_count": 95,
      "outputs": [
        {
          "output_type": "stream",
          "text": [
            "not a palindrome\n",
            "palindrome\n"
          ],
          "name": "stdout"
        }
      ]
    },
    {
      "cell_type": "code",
      "metadata": {
        "id": "f9wGJCIm_-e_",
        "colab_type": "code",
        "colab": {
          "base_uri": "https://localhost:8080/",
          "height": 34
        },
        "outputId": "91da61a8-e9cd-47c4-e24c-6b4dd40c0b79"
      },
      "source": [
        "# Palindrome\n",
        "def palindrome(str):\n",
        "    if str==str[::-1]:\n",
        "       return 'Palin'\n",
        "    else:\n",
        "        return 'not palin'\n",
        "print(palindrome('121'))"
      ],
      "execution_count": 96,
      "outputs": [
        {
          "output_type": "stream",
          "text": [
            "Palin\n"
          ],
          "name": "stdout"
        }
      ]
    },
    {
      "cell_type": "markdown",
      "metadata": {
        "id": "HMcJKORWB7Gt",
        "colab_type": "text"
      },
      "source": [
        "# String built in methods\n",
        "- upper()\n",
        "- lower()\n",
        "- islower()\n",
        "- isupper()\n",
        "- istitle()\n",
        "- isnumeric()\n",
        "- isalpha()\n",
        "- isspace()"
      ]
    },
    {
      "cell_type": "code",
      "metadata": {
        "id": "tYCzyfetCuxM",
        "colab_type": "code",
        "colab": {
          "base_uri": "https://localhost:8080/",
          "height": 153
        },
        "outputId": "abc936b3-8925-4d5b-924d-996a5e9767fa"
      },
      "source": [
        "s1= 'python'\n",
        "print(s1.upper())\n",
        "print(s1.lower())\n",
        "print(s1.islower())\n",
        "print(s1.isupper())\n",
        "print(s1.istitle())\n",
        "print(s1.isnumeric())\n",
        "print(s1.isalpha())\n",
        "print(s1.isspace())"
      ],
      "execution_count": 114,
      "outputs": [
        {
          "output_type": "stream",
          "text": [
            "PYTHON\n",
            "python\n",
            "True\n",
            "False\n",
            "False\n",
            "False\n",
            "True\n",
            "False\n"
          ],
          "name": "stdout"
        }
      ]
    },
    {
      "cell_type": "code",
      "metadata": {
        "id": "L0UDtzvGC44y",
        "colab_type": "code",
        "colab": {
          "base_uri": "https://localhost:8080/",
          "height": 34
        },
        "outputId": "275b3236-090d-4da7-bd65-cd821432fcda"
      },
      "source": [
        "s1=' '\n",
        "print(s1.isspace())"
      ],
      "execution_count": 113,
      "outputs": [
        {
          "output_type": "stream",
          "text": [
            "True\n"
          ],
          "name": "stdout"
        }
      ]
    },
    {
      "cell_type": "markdown",
      "metadata": {
        "id": "zXpvJo4iGk_e",
        "colab_type": "text"
      },
      "source": [
        "# String methods\n",
        "- joins()\n",
        "- split()\n",
        "- replace()"
      ]
    },
    {
      "cell_type": "code",
      "metadata": {
        "id": "PiTQIR0WGrb-",
        "colab_type": "code",
        "colab": {
          "base_uri": "https://localhost:8080/",
          "height": 34
        },
        "outputId": "dd4e626a-f5d5-4998-cc05-9b897edcaf09"
      },
      "source": [
        "s1='python'\n",
        "print(\"@\".join(s1))"
      ],
      "execution_count": 115,
      "outputs": [
        {
          "output_type": "stream",
          "text": [
            "p@y@t@h@o@n\n"
          ],
          "name": "stdout"
        }
      ]
    },
    {
      "cell_type": "code",
      "metadata": {
        "id": "zVJ_Cx4kG3Dz",
        "colab_type": "code",
        "colab": {
          "base_uri": "https://localhost:8080/",
          "height": 34
        },
        "outputId": "07ef089a-3e59-40a5-f999-12a194eb025e"
      },
      "source": [
        "s1='python is easy to learn'\n",
        "print('.'.join(s1))"
      ],
      "execution_count": 116,
      "outputs": [
        {
          "output_type": "stream",
          "text": [
            "p.y.t.h.o.n. .i.s. .e.a.s.y. .t.o. .l.e.a.r.n\n"
          ],
          "name": "stdout"
        }
      ]
    },
    {
      "cell_type": "code",
      "metadata": {
        "id": "5IM-H09oHKTx",
        "colab_type": "code",
        "colab": {
          "base_uri": "https://localhost:8080/",
          "height": 51
        },
        "outputId": "4efab59c-6608-4882-bec7-c5b36d1a3119"
      },
      "source": [
        "s1='python is easy to learn'\n",
        "print(s1.split())\n",
        "print(s1.split('a'))"
      ],
      "execution_count": 119,
      "outputs": [
        {
          "output_type": "stream",
          "text": [
            "['python', 'is', 'easy', 'to', 'learn']\n",
            "['python is e', 'sy to le', 'rn']\n"
          ],
          "name": "stdout"
        }
      ]
    },
    {
      "cell_type": "code",
      "metadata": {
        "id": "xpuAC_J1HXFg",
        "colab_type": "code",
        "colab": {
          "base_uri": "https://localhost:8080/",
          "height": 34
        },
        "outputId": "42d42dbf-e372-405f-f527-065d7a9d6dbd"
      },
      "source": [
        "s1='python is easy to learn'\n",
        "li=list(s1)\n",
        "print(li)"
      ],
      "execution_count": 122,
      "outputs": [
        {
          "output_type": "stream",
          "text": [
            "['p', 'y', 't', 'h', 'o', 'n', ' ', 'i', 's', ' ', 'e', 'a', 's', 'y', ' ', 't', 'o', ' ', 'l', 'e', 'a', 'r', 'n']\n"
          ],
          "name": "stdout"
        }
      ]
    },
    {
      "cell_type": "code",
      "metadata": {
        "id": "uVD7EP6AH6QT",
        "colab_type": "code",
        "colab": {
          "base_uri": "https://localhost:8080/",
          "height": 34
        },
        "outputId": "44422b39-4999-4450-fb9a-40860f8577bb"
      },
      "source": [
        "s1='python is easy to learn'\n",
        "print(s1.replace(\"easy\",\"very easy\"))"
      ],
      "execution_count": 124,
      "outputs": [
        {
          "output_type": "stream",
          "text": [
            "python is very easy to learn\n"
          ],
          "name": "stdout"
        }
      ]
    },
    {
      "cell_type": "code",
      "metadata": {
        "id": "5oKp40NtIttK",
        "colab_type": "code",
        "colab": {
          "base_uri": "https://localhost:8080/",
          "height": 231
        },
        "outputId": "453e37b7-c5a6-4d36-8268-ee33d6016934"
      },
      "source": [
        "marks={'peter':[80,85,90],'joe':[86,90,95]}\n",
        "# output:[80,85,90]\n",
        "2.85\n",
        "3.86\n",
        "4.[95,90,86]\n",
        "peter=[80,85,90]\n",
        "peter"
      ],
      "execution_count": 125,
      "outputs": [
        {
          "output_type": "error",
          "ename": "TypeError",
          "evalue": "ignored",
          "traceback": [
            "\u001b[0;31m---------------------------------------------------------------------------\u001b[0m",
            "\u001b[0;31mTypeError\u001b[0m                                 Traceback (most recent call last)",
            "\u001b[0;32m<ipython-input-125-c18f03a478ed>\u001b[0m in \u001b[0;36m<module>\u001b[0;34m()\u001b[0m\n\u001b[1;32m      3\u001b[0m \u001b[0;36m2.85\u001b[0m\u001b[0;34m\u001b[0m\u001b[0;34m\u001b[0m\u001b[0m\n\u001b[1;32m      4\u001b[0m \u001b[0;36m3.86\u001b[0m\u001b[0;34m\u001b[0m\u001b[0;34m\u001b[0m\u001b[0m\n\u001b[0;32m----> 5\u001b[0;31m \u001b[0;36m4.\u001b[0m\u001b[0;34m[\u001b[0m\u001b[0;36m95\u001b[0m\u001b[0;34m,\u001b[0m\u001b[0;36m90\u001b[0m\u001b[0;34m,\u001b[0m\u001b[0;36m86\u001b[0m\u001b[0;34m]\u001b[0m\u001b[0;34m\u001b[0m\u001b[0;34m\u001b[0m\u001b[0m\n\u001b[0m\u001b[1;32m      6\u001b[0m \u001b[0mpeter\u001b[0m\u001b[0;34m=\u001b[0m\u001b[0;34m[\u001b[0m\u001b[0;36m80\u001b[0m\u001b[0;34m,\u001b[0m\u001b[0;36m85\u001b[0m\u001b[0;34m,\u001b[0m\u001b[0;36m90\u001b[0m\u001b[0;34m]\u001b[0m\u001b[0;34m\u001b[0m\u001b[0;34m\u001b[0m\u001b[0m\n\u001b[1;32m      7\u001b[0m \u001b[0mpeter\u001b[0m\u001b[0;34m\u001b[0m\u001b[0;34m\u001b[0m\u001b[0m\n",
            "\u001b[0;31mTypeError\u001b[0m: 'float' object is not subscriptable"
          ]
        }
      ]
    },
    {
      "cell_type": "code",
      "metadata": {
        "id": "sZ7eY6yaKSnR",
        "colab_type": "code",
        "colab": {
          "base_uri": "https://localhost:8080/",
          "height": 34
        },
        "outputId": "9bcfb195-1c0d-4a75-920f-64d4864212e4"
      },
      "source": [
        "peter=[80,85,90]\n",
        "print(peter)"
      ],
      "execution_count": 126,
      "outputs": [
        {
          "output_type": "stream",
          "text": [
            "[80, 85, 90]\n"
          ],
          "name": "stdout"
        }
      ]
    },
    {
      "cell_type": "code",
      "metadata": {
        "id": "Dmm-Ej1tKYHB",
        "colab_type": "code",
        "colab": {
          "base_uri": "https://localhost:8080/",
          "height": 34
        },
        "outputId": "3cb8545f-3dc2-4e39-bb02-a89a083f7469"
      },
      "source": [
        "print(peter[1])"
      ],
      "execution_count": 128,
      "outputs": [
        {
          "output_type": "stream",
          "text": [
            "85\n"
          ],
          "name": "stdout"
        }
      ]
    },
    {
      "cell_type": "code",
      "metadata": {
        "id": "j_GoJdJ8KdJZ",
        "colab_type": "code",
        "colab": {
          "base_uri": "https://localhost:8080/",
          "height": 34
        },
        "outputId": "84a25690-a981-48b5-d89d-c27029f1958c"
      },
      "source": [
        "joe=[86,90,95]\n",
        "print(joe[0])"
      ],
      "execution_count": 130,
      "outputs": [
        {
          "output_type": "stream",
          "text": [
            "86\n"
          ],
          "name": "stdout"
        }
      ]
    },
    {
      "cell_type": "code",
      "metadata": {
        "id": "Vpdc0luRKrZR",
        "colab_type": "code",
        "colab": {
          "base_uri": "https://localhost:8080/",
          "height": 34
        },
        "outputId": "e31b4e18-38af-48f9-d7db-20b4becc9bdb"
      },
      "source": [
        "joe[::-1]"
      ],
      "execution_count": 132,
      "outputs": [
        {
          "output_type": "execute_result",
          "data": {
            "text/plain": [
              "[95, 90, 86]"
            ]
          },
          "metadata": {
            "tags": []
          },
          "execution_count": 132
        }
      ]
    },
    {
      "cell_type": "code",
      "metadata": {
        "id": "hpZHF6VYK0Ix",
        "colab_type": "code",
        "colab": {
          "base_uri": "https://localhost:8080/",
          "height": 214
        },
        "outputId": "922de5c2-b03c-40c2-db4f-51b573c42fa3"
      },
      "source": [
        "print(marks.values())\n",
        "marks('peter')\n",
        "\n"
      ],
      "execution_count": 136,
      "outputs": [
        {
          "output_type": "stream",
          "text": [
            "dict_values([[80, 85, 90], [86, 90, 95]])\n"
          ],
          "name": "stdout"
        },
        {
          "output_type": "error",
          "ename": "TypeError",
          "evalue": "ignored",
          "traceback": [
            "\u001b[0;31m---------------------------------------------------------------------------\u001b[0m",
            "\u001b[0;31mTypeError\u001b[0m                                 Traceback (most recent call last)",
            "\u001b[0;32m<ipython-input-136-04da7ab204fe>\u001b[0m in \u001b[0;36m<module>\u001b[0;34m()\u001b[0m\n\u001b[1;32m      1\u001b[0m \u001b[0mprint\u001b[0m\u001b[0;34m(\u001b[0m\u001b[0mmarks\u001b[0m\u001b[0;34m.\u001b[0m\u001b[0mvalues\u001b[0m\u001b[0;34m(\u001b[0m\u001b[0;34m)\u001b[0m\u001b[0;34m)\u001b[0m\u001b[0;34m\u001b[0m\u001b[0;34m\u001b[0m\u001b[0m\n\u001b[0;32m----> 2\u001b[0;31m \u001b[0mmarks\u001b[0m\u001b[0;34m(\u001b[0m\u001b[0;34m'peter'\u001b[0m\u001b[0;34m)\u001b[0m\u001b[0;34m\u001b[0m\u001b[0;34m\u001b[0m\u001b[0m\n\u001b[0m\u001b[1;32m      3\u001b[0m \u001b[0;34m\u001b[0m\u001b[0m\n",
            "\u001b[0;31mTypeError\u001b[0m: 'dict' object is not callable"
          ]
        }
      ]
    },
    {
      "cell_type": "code",
      "metadata": {
        "id": "7vs3oQHILWFB",
        "colab_type": "code",
        "colab": {
          "base_uri": "https://localhost:8080/",
          "height": 85
        },
        "outputId": "936e8fa8-99f8-4f88-ebd2-cc217cbda444"
      },
      "source": [
        "print(marks[\"peter\"])\n",
        "l1=marks['peter']\n",
        "l2=marks['joe']\n",
        "print(l1[1])\n",
        "print(l2[0])\n",
        "print(l2[::-1])"
      ],
      "execution_count": 137,
      "outputs": [
        {
          "output_type": "stream",
          "text": [
            "[80, 85, 90]\n",
            "85\n",
            "86\n",
            "[95, 90, 86]\n"
          ],
          "name": "stdout"
        }
      ]
    }
  ]
}