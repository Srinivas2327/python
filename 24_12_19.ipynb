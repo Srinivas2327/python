{
  "nbformat": 4,
  "nbformat_minor": 0,
  "metadata": {
    "colab": {
      "name": "24-12-19.ipynb",
      "provenance": [],
      "collapsed_sections": []
    },
    "kernelspec": {
      "name": "python3",
      "display_name": "Python 3"
    }
  },
  "cells": [
    {
      "cell_type": "code",
      "metadata": {
        "id": "i9UEBR8PMLU4",
        "colab_type": "code",
        "colab": {}
      },
      "source": [
        ""
      ],
      "execution_count": 0,
      "outputs": []
    },
    {
      "cell_type": "markdown",
      "metadata": {
        "colab_type": "text",
        "id": "6-NeWju6PfA1"
      },
      "source": [
        "#Markdown\n",
        "##Markdown\n",
        "###Markdown\n",
        "####Markdown\n",
        "#### Markdown\n",
        "**Python**\n",
        "\n",
        "*Python*\n",
        "\n",
        "##Insert image\n",
        "![text](https://images.pexels.com/photos/414612/pexels-photo-414612.jpeg?auto=compress&cs=tinysrgb&dpr=1&w=500)\n",
        "\n",
        "#Insert site\n",
        "[site](https://gparent.gitam.edu)\n",
        "\n",
        "#PYTHON\n",
        "- It is easy to learn\n",
        "-  Python is more popular and demand\n",
        "- Python is used in data science\n",
        "\n",
        "\n",
        "\n"
      ]
    },
    {
      "cell_type": "code",
      "metadata": {
        "id": "xrBO-nOxTYlH",
        "colab_type": "code",
        "colab": {}
      },
      "source": [
        ""
      ],
      "execution_count": 0,
      "outputs": []
    },
    {
      "cell_type": "markdown",
      "metadata": {
        "id": "D_C_NvVuTY7b",
        "colab_type": "text"
      },
      "source": [
        ""
      ]
    },
    {
      "cell_type": "code",
      "metadata": {
        "id": "ZSnKU7mDTZQL",
        "colab_type": "code",
        "outputId": "91546804-ba69-491d-b126-6282ad87f21c",
        "colab": {
          "base_uri": "https://localhost:8080/",
          "height": 34
        }
      },
      "source": [
        "print(\"hello\")\n",
        "\n"
      ],
      "execution_count": 0,
      "outputs": [
        {
          "output_type": "stream",
          "text": [
            "hello\n"
          ],
          "name": "stdout"
        }
      ]
    },
    {
      "cell_type": "markdown",
      "metadata": {
        "id": "7tWueM1iPc7B",
        "colab_type": "text"
      },
      "source": [
        ""
      ]
    },
    {
      "cell_type": "code",
      "metadata": {
        "id": "C84sKKk7TxHq",
        "colab_type": "code",
        "outputId": "90205b75-6c28-4179-fcac-208776a87679",
        "colab": {
          "base_uri": "https://localhost:8080/",
          "height": 34
        }
      },
      "source": [
        "x=12\n",
        "y=20\n",
        "print(x,y)"
      ],
      "execution_count": 0,
      "outputs": [
        {
          "output_type": "stream",
          "text": [
            "12 20\n"
          ],
          "name": "stdout"
        }
      ]
    },
    {
      "cell_type": "code",
      "metadata": {
        "id": "5MvRXopDT_qq",
        "colab_type": "code",
        "outputId": "6decde7b-1f15-4fdc-ac45-1f6b6a5543d8",
        "colab": {
          "base_uri": "https://localhost:8080/",
          "height": 34
        }
      },
      "source": [
        "a=b=c=20\n",
        "print(a,b,c)"
      ],
      "execution_count": 0,
      "outputs": [
        {
          "output_type": "stream",
          "text": [
            "20 20 20\n"
          ],
          "name": "stdout"
        }
      ]
    },
    {
      "cell_type": "code",
      "metadata": {
        "id": "VDcQfGNlUXxp",
        "colab_type": "code",
        "outputId": "673c97fb-03dc-4123-efeb-1a5f6ee4cdc1",
        "colab": {
          "base_uri": "https://localhost:8080/",
          "height": 34
        }
      },
      "source": [
        "a1,b1,c1=100,200,500\n",
        "print(a1,b1,c1)"
      ],
      "execution_count": 0,
      "outputs": [
        {
          "output_type": "stream",
          "text": [
            "100 200 500\n"
          ],
          "name": "stdout"
        }
      ]
    },
    {
      "cell_type": "markdown",
      "metadata": {
        "id": "En6ji20EVDx6",
        "colab_type": "text"
      },
      "source": [
        "#Data types and conversions\n",
        "- int\n",
        "- float\n",
        "- string\n",
        "- complex\n",
        "- boolean\n"
      ]
    },
    {
      "cell_type": "code",
      "metadata": {
        "id": "amGvgNJXViiR",
        "colab_type": "code",
        "outputId": "7259d244-0919-4fed-eac8-a5290a1016ed",
        "colab": {
          "base_uri": "https://localhost:8080/",
          "height": 34
        }
      },
      "source": [
        "x=10\n",
        "y=12.55\n",
        "z=3+5j\n",
        "print(type(x),type(y),type(z))"
      ],
      "execution_count": 0,
      "outputs": [
        {
          "output_type": "stream",
          "text": [
            "<class 'int'> <class 'float'> <class 'complex'>\n"
          ],
          "name": "stdout"
        }
      ]
    },
    {
      "cell_type": "code",
      "metadata": {
        "id": "57BNNiFKWcBE",
        "colab_type": "code",
        "outputId": "8422c65a-9f4f-4318-a82e-89e146b89969",
        "colab": {
          "base_uri": "https://localhost:8080/",
          "height": 34
        }
      },
      "source": [
        "x=4\n",
        "y=10\n",
        "x<y"
      ],
      "execution_count": 0,
      "outputs": [
        {
          "output_type": "execute_result",
          "data": {
            "text/plain": [
              "True"
            ]
          },
          "metadata": {
            "tags": []
          },
          "execution_count": 10
        }
      ]
    },
    {
      "cell_type": "code",
      "metadata": {
        "id": "d_pcExnjWwbC",
        "colab_type": "code",
        "outputId": "29f015df-ce9f-47a7-e4f0-f38dcae80149",
        "colab": {
          "base_uri": "https://localhost:8080/",
          "height": 34
        }
      },
      "source": [
        "\n",
        "s1=\"abc\"\n",
        "s2=\"xyz\"\n",
        "print(type(s1),type(s2))"
      ],
      "execution_count": 0,
      "outputs": [
        {
          "output_type": "stream",
          "text": [
            "<class 'str'> <class 'str'>\n"
          ],
          "name": "stdout"
        }
      ]
    },
    {
      "cell_type": "code",
      "metadata": {
        "id": "SSpDrx4tXNFC",
        "colab_type": "code",
        "outputId": "96aa866c-d925-4847-a698-68fc8b0d7fc8",
        "colab": {
          "base_uri": "https://localhost:8080/",
          "height": 34
        }
      },
      "source": [
        "s=\"123\"\n",
        "type(s)"
      ],
      "execution_count": 0,
      "outputs": [
        {
          "output_type": "execute_result",
          "data": {
            "text/plain": [
              "str"
            ]
          },
          "metadata": {
            "tags": []
          },
          "execution_count": 13
        }
      ]
    },
    {
      "cell_type": "code",
      "metadata": {
        "id": "hdSeiqYuXfc6",
        "colab_type": "code",
        "outputId": "4ea731bc-c144-436a-e5e6-cf7c8a91e11f",
        "colab": {
          "base_uri": "https://localhost:8080/",
          "height": 34
        }
      },
      "source": [
        "s=123\n",
        "type(s)"
      ],
      "execution_count": 0,
      "outputs": [
        {
          "output_type": "execute_result",
          "data": {
            "text/plain": [
              "int"
            ]
          },
          "metadata": {
            "tags": []
          },
          "execution_count": 14
        }
      ]
    },
    {
      "cell_type": "code",
      "metadata": {
        "id": "oY7zJf-XXiAb",
        "colab_type": "code",
        "outputId": "a234bb65-da1d-447a-ddc4-4bd7d5c74903",
        "colab": {
          "base_uri": "https://localhost:8080/",
          "height": 68
        }
      },
      "source": [
        "i=100\n",
        "s1=str(i)\n",
        "print(type(i))\n",
        "print(type(s1))\n",
        "f=float(i)\n",
        "print(type(f))\n"
      ],
      "execution_count": 0,
      "outputs": [
        {
          "output_type": "stream",
          "text": [
            "<class 'int'>\n",
            "<class 'str'>\n",
            "<class 'float'>\n"
          ],
          "name": "stdout"
        }
      ]
    },
    {
      "cell_type": "code",
      "metadata": {
        "id": "AOYNEsQYYFb8",
        "colab_type": "code",
        "outputId": "5c7768a0-4421-42c0-9590-c22e89cb9e12",
        "colab": {
          "base_uri": "https://localhost:8080/",
          "height": 34
        }
      },
      "source": [
        "c=complex(4,9)\n",
        "print(c)"
      ],
      "execution_count": 0,
      "outputs": [
        {
          "output_type": "stream",
          "text": [
            "(4+9j)\n"
          ],
          "name": "stdout"
        }
      ]
    },
    {
      "cell_type": "code",
      "metadata": {
        "id": "8mYurjrbY8b8",
        "colab_type": "code",
        "colab": {}
      },
      "source": [
        ""
      ],
      "execution_count": 0,
      "outputs": []
    },
    {
      "cell_type": "markdown",
      "metadata": {
        "id": "ETqEi4WbZKUj",
        "colab_type": "text"
      },
      "source": [
        "#Reading a value ---Input function"
      ]
    },
    {
      "cell_type": "code",
      "metadata": {
        "id": "605qtjLBZT7j",
        "colab_type": "code",
        "outputId": "fd2370be-6bd3-4d87-a006-e2d97ce39026",
        "colab": {
          "base_uri": "https://localhost:8080/",
          "height": 68
        }
      },
      "source": [
        "s=input(\"enter name:\")\n",
        "print(s)\n",
        "type(s)\n"
      ],
      "execution_count": 0,
      "outputs": [
        {
          "output_type": "stream",
          "text": [
            "enter name:srinivas\n",
            "srinivas\n"
          ],
          "name": "stdout"
        },
        {
          "output_type": "execute_result",
          "data": {
            "text/plain": [
              "str"
            ]
          },
          "metadata": {
            "tags": []
          },
          "execution_count": 24
        }
      ]
    },
    {
      "cell_type": "code",
      "metadata": {
        "id": "AX1LZZj8ZfcM",
        "colab_type": "code",
        "outputId": "4ecbb8ad-4a5d-4b48-97e9-0072d774fec0",
        "colab": {
          "base_uri": "https://localhost:8080/",
          "height": 68
        }
      },
      "source": [
        "a=int(input(\"enter age\"))\n",
        "print(a)\n",
        "type(a)"
      ],
      "execution_count": 0,
      "outputs": [
        {
          "output_type": "stream",
          "text": [
            "enter age20\n",
            "20\n"
          ],
          "name": "stdout"
        },
        {
          "output_type": "execute_result",
          "data": {
            "text/plain": [
              "int"
            ]
          },
          "metadata": {
            "tags": []
          },
          "execution_count": 25
        }
      ]
    },
    {
      "cell_type": "code",
      "metadata": {
        "id": "t7q6_T25aPcU",
        "colab_type": "code",
        "colab": {}
      },
      "source": [
        ""
      ],
      "execution_count": 0,
      "outputs": []
    },
    {
      "cell_type": "markdown",
      "metadata": {
        "id": "P9Pq5XXOamBL",
        "colab_type": "text"
      },
      "source": [
        "#Operators\n",
        "\n",
        "- Operator is a symbols is uesd to perform a specific a kind of operations\n",
        "\n",
        "#Arthematic Operators\n",
        "\n",
        "- +\n",
        "- -\n",
        "- *\n",
        "- /\n",
        "- %\n",
        "- //\n",
        "- **\n"
      ]
    },
    {
      "cell_type": "code",
      "metadata": {
        "id": "qvZ2g6QcbcV7",
        "colab_type": "code",
        "outputId": "c8dc3ff1-b6cf-45f0-c9fd-3fe14a2fe622",
        "colab": {
          "base_uri": "https://localhost:8080/",
          "height": 119
        }
      },
      "source": [
        "n1=123\n",
        "print(n1 + 10)\n",
        "print(n1 - 10)\n",
        "print(n1 / 10)\n",
        "print(n1 % 10)\n",
        "print(n1 // 10)\n",
        "print(n1 ** 10)"
      ],
      "execution_count": 0,
      "outputs": [
        {
          "output_type": "stream",
          "text": [
            "133\n",
            "113\n",
            "12.3\n",
            "3\n",
            "12\n",
            "792594609605189126649\n"
          ],
          "name": "stdout"
        }
      ]
    },
    {
      "cell_type": "code",
      "metadata": {
        "id": "WlXMtmfbbk6z",
        "colab_type": "code",
        "colab": {}
      },
      "source": [
        ""
      ],
      "execution_count": 0,
      "outputs": []
    },
    {
      "cell_type": "markdown",
      "metadata": {
        "id": "W4pC-AsLcW-z",
        "colab_type": "text"
      },
      "source": [
        "#Precedence of Arthematic operators\n",
        "\n",
        "- parenthesis\n",
        "- power\n",
        "- multiplication\n",
        "- division\n",
        "- addition\n",
        "\n"
      ]
    },
    {
      "cell_type": "code",
      "metadata": {
        "id": "XC1Oc4RYdetd",
        "colab_type": "code",
        "colab": {}
      },
      "source": [
        ""
      ],
      "execution_count": 0,
      "outputs": []
    },
    {
      "cell_type": "code",
      "metadata": {
        "id": "qoVmqaLIdULl",
        "colab_type": "code",
        "colab": {}
      },
      "source": [
        ""
      ],
      "execution_count": 0,
      "outputs": []
    },
    {
      "cell_type": "markdown",
      "metadata": {
        "id": "kp6wJqe4daZM",
        "colab_type": "text"
      },
      "source": [
        ""
      ]
    },
    {
      "cell_type": "code",
      "metadata": {
        "id": "7ftqUXMScoPM",
        "colab_type": "code",
        "outputId": "887881bf-7c43-4c0d-efe7-355de11f30ef",
        "colab": {
          "base_uri": "https://localhost:8080/",
          "height": 34
        }
      },
      "source": [
        "x=1+2**3/4+5\n",
        "print(x)"
      ],
      "execution_count": 0,
      "outputs": [
        {
          "output_type": "stream",
          "text": [
            "8.0\n"
          ],
          "name": "stdout"
        }
      ]
    },
    {
      "cell_type": "code",
      "metadata": {
        "id": "ZarTuQwqdJ1D",
        "colab_type": "code",
        "colab": {}
      },
      "source": [
        ""
      ],
      "execution_count": 0,
      "outputs": []
    },
    {
      "cell_type": "markdown",
      "metadata": {
        "id": "97mTz-FadRHP",
        "colab_type": "text"
      },
      "source": [
        ""
      ]
    },
    {
      "cell_type": "code",
      "metadata": {
        "id": "dNd_naDdeFaM",
        "colab_type": "code",
        "outputId": "36f35307-f3ca-443a-fae7-64df526891e6",
        "colab": {
          "base_uri": "https://localhost:8080/",
          "height": 34
        }
      },
      "source": [
        "x=1+2**3/4*5\n",
        "print(x)\n"
      ],
      "execution_count": 0,
      "outputs": [
        {
          "output_type": "stream",
          "text": [
            "11.0\n"
          ],
          "name": "stdout"
        }
      ]
    },
    {
      "cell_type": "code",
      "metadata": {
        "id": "nvswXQF4eMWL",
        "colab_type": "code",
        "colab": {}
      },
      "source": [
        ""
      ],
      "execution_count": 0,
      "outputs": []
    },
    {
      "cell_type": "markdown",
      "metadata": {
        "id": "AY0GfNYbfJi9",
        "colab_type": "text"
      },
      "source": [
        "#Relational operators\n",
        "\n",
        "- ==\n",
        "- !=\n",
        "- <\n",
        "- ,>\n",
        "- <=\n",
        "- ,>=\n"
      ]
    },
    {
      "cell_type": "code",
      "metadata": {
        "id": "qQ88x1I-fsPj",
        "colab_type": "code",
        "outputId": "edaae07f-f6b5-4c0e-9305-85ba34c224c6",
        "colab": {
          "base_uri": "https://localhost:8080/",
          "height": 34
        }
      },
      "source": [
        "a=10\n",
        "a1=a>5\n",
        "print(a1)"
      ],
      "execution_count": 0,
      "outputs": [
        {
          "output_type": "stream",
          "text": [
            "True\n"
          ],
          "name": "stdout"
        }
      ]
    },
    {
      "cell_type": "markdown",
      "metadata": {
        "id": "LvKOMBCzfaQm",
        "colab_type": "text"
      },
      "source": [
        ""
      ]
    },
    {
      "cell_type": "code",
      "metadata": {
        "id": "qeIakuBBfY5P",
        "colab_type": "code",
        "colab": {}
      },
      "source": [
        ""
      ],
      "execution_count": 0,
      "outputs": []
    },
    {
      "cell_type": "markdown",
      "metadata": {
        "id": "9cUlp4TTgDEl",
        "colab_type": "text"
      },
      "source": [
        "#Logical operators\n",
        "\n",
        "- "
      ]
    },
    {
      "cell_type": "code",
      "metadata": {
        "id": "rqGfc8CZgOO1",
        "colab_type": "code",
        "outputId": "fd1453f8-180a-4502-955d-c2209c755d87",
        "colab": {
          "base_uri": "https://localhost:8080/",
          "height": 68
        }
      },
      "source": [
        "x=20\n",
        "y=30\n",
        "print(x>=10 and x<=20)\n",
        "print(x>=10 or x<=20)\n",
        "print(not x)"
      ],
      "execution_count": 0,
      "outputs": [
        {
          "output_type": "stream",
          "text": [
            "True\n",
            "True\n",
            "False\n"
          ],
          "name": "stdout"
        }
      ]
    },
    {
      "cell_type": "markdown",
      "metadata": {
        "id": "i3tsn4-ZfZNc",
        "colab_type": "text"
      },
      "source": [
        ""
      ]
    },
    {
      "cell_type": "code",
      "metadata": {
        "id": "IbaQOx8cg_Y9",
        "colab_type": "code",
        "colab": {}
      },
      "source": [
        ""
      ],
      "execution_count": 0,
      "outputs": []
    },
    {
      "cell_type": "markdown",
      "metadata": {
        "id": "Fm4yjZ6NhJME",
        "colab_type": "text"
      },
      "source": [
        "#Membership operators"
      ]
    },
    {
      "cell_type": "code",
      "metadata": {
        "id": "YFvcQoexhRuV",
        "colab_type": "code",
        "outputId": "a17fd3e1-bd48-41b2-ed12-ee3629c25598",
        "colab": {
          "base_uri": "https://localhost:8080/",
          "height": 51
        }
      },
      "source": [
        "str1=\"abc\"\n",
        "print('a' in str1)\n",
        "print('a' not in str1)"
      ],
      "execution_count": 0,
      "outputs": [
        {
          "output_type": "stream",
          "text": [
            "True\n",
            "False\n"
          ],
          "name": "stdout"
        }
      ]
    },
    {
      "cell_type": "code",
      "metadata": {
        "id": "lbL6yJa1hg3M",
        "colab_type": "code",
        "colab": {}
      },
      "source": [
        ""
      ],
      "execution_count": 0,
      "outputs": []
    },
    {
      "cell_type": "markdown",
      "metadata": {
        "id": "YHN0grg0h3Wm",
        "colab_type": "text"
      },
      "source": [
        "#Conditional statements\n",
        "\n",
        "##if-else Statements\n",
        "##Syntax:\n",
        "####if condition:\n",
        ">statements<br>\n",
        "####else:\n",
        ">statements"
      ]
    },
    {
      "cell_type": "code",
      "metadata": {
        "id": "Ge5nmjQXjEwv",
        "colab_type": "code",
        "colab": {}
      },
      "source": [
        ""
      ],
      "execution_count": 0,
      "outputs": []
    },
    {
      "cell_type": "markdown",
      "metadata": {
        "id": "THjq2piZjHz1",
        "colab_type": "text"
      },
      "source": [
        "# even or odd"
      ]
    },
    {
      "cell_type": "code",
      "metadata": {
        "id": "9glUWVBkjJhF",
        "colab_type": "code",
        "outputId": "687a7d68-c704-4c7a-e927-a1ac3cfe9de9",
        "colab": {
          "base_uri": "https://localhost:8080/",
          "height": 51
        }
      },
      "source": [
        "n=int(input(\"enter a number\"))\n",
        "if n%2==0:\n",
        "   print(\"even\")\n",
        "else:\n",
        "  print(\"odd\")"
      ],
      "execution_count": 0,
      "outputs": [
        {
          "output_type": "stream",
          "text": [
            "enter a number5\n",
            "odd\n"
          ],
          "name": "stdout"
        }
      ]
    },
    {
      "cell_type": "markdown",
      "metadata": {
        "id": "-CR-uKzFj_XJ",
        "colab_type": "text"
      },
      "source": [
        "#Check given is perfectly divisible by 3 and 5"
      ]
    },
    {
      "cell_type": "code",
      "metadata": {
        "id": "i_4eOlmOktr-",
        "colab_type": "code",
        "colab": {}
      },
      "source": [
        ""
      ],
      "execution_count": 0,
      "outputs": []
    },
    {
      "cell_type": "code",
      "metadata": {
        "id": "qK7nE8r1kGQ3",
        "colab_type": "code",
        "outputId": "74f6d340-1d0e-454f-c3e2-4142b0162719",
        "colab": {
          "base_uri": "https://localhost:8080/",
          "height": 51
        }
      },
      "source": [
        "n=int(input(\"enter a number\"))\n",
        "if n%3==0 and n%5==0:\n",
        "    print(\"divisible by 3 and 5\")\n",
        "else:\n",
        "    print(\"not divisible\")"
      ],
      "execution_count": 0,
      "outputs": [
        {
          "output_type": "stream",
          "text": [
            "enter a number15\n",
            "divisible by 3 and 5\n"
          ],
          "name": "stdout"
        }
      ]
    },
    {
      "cell_type": "code",
      "metadata": {
        "id": "52hdufChi_aO",
        "colab_type": "code",
        "colab": {}
      },
      "source": [
        ""
      ],
      "execution_count": 0,
      "outputs": []
    },
    {
      "cell_type": "markdown",
      "metadata": {
        "id": "4G7wU8k_kxdG",
        "colab_type": "text"
      },
      "source": [
        "#check wheather given number is positive or negative or zero"
      ]
    },
    {
      "cell_type": "code",
      "metadata": {
        "id": "W-FBxrVLlVNu",
        "colab_type": "code",
        "colab": {}
      },
      "source": [
        ""
      ],
      "execution_count": 0,
      "outputs": []
    },
    {
      "cell_type": "code",
      "metadata": {
        "id": "omIQXol4k3_n",
        "colab_type": "code",
        "outputId": "4dff6156-785e-4f22-80aa-ecb9c0238ba3",
        "colab": {
          "base_uri": "https://localhost:8080/",
          "height": 51
        }
      },
      "source": [
        "n=int(input(\"enter a number\"))\n",
        "if n>1:\n",
        "    print(\"it is positive\")\n",
        "elif n==0:\n",
        "    print(\"it is zero\")\n",
        "else:\n",
        "    print(\"it is negative\")"
      ],
      "execution_count": 0,
      "outputs": [
        {
          "output_type": "stream",
          "text": [
            "enter a number0\n",
            "it is zero\n"
          ],
          "name": "stdout"
        }
      ]
    },
    {
      "cell_type": "markdown",
      "metadata": {
        "id": "K14EfBZamU9o",
        "colab_type": "text"
      },
      "source": [
        "# given number is leap year or not"
      ]
    },
    {
      "cell_type": "code",
      "metadata": {
        "id": "0JTpzeqrmZSR",
        "colab_type": "code",
        "outputId": "0d42ebc0-9d19-4ad6-bcea-3413ee924309",
        "colab": {
          "base_uri": "https://localhost:8080/",
          "height": 51
        }
      },
      "source": [
        "n=int(input(\"enter a number\"))\n",
        "if (n%4==0 and n%100!=0) or n%400==0:\n",
        "    print(\"it is leap year\")\n",
        "else:\n",
        "    print(\" not a leap year\")"
      ],
      "execution_count": 0,
      "outputs": [
        {
          "output_type": "stream",
          "text": [
            "enter a number2012\n",
            "it is leap year\n"
          ],
          "name": "stdout"
        }
      ]
    },
    {
      "cell_type": "markdown",
      "metadata": {
        "id": "NTwbPsSwi77u",
        "colab_type": "text"
      },
      "source": [
        ""
      ]
    }
  ]
}